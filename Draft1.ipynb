{
 "cells": [
  {
   "cell_type": "code",
   "execution_count": 28,
   "metadata": {},
   "outputs": [],
   "source": [
    "import os, glob\n",
    "import numpy as np\n",
    "from PIL import Image\n",
    "import pandas as pd\n",
    "import cv2\n",
    "from imageio import imread"
   ]
  },
  {
   "cell_type": "code",
   "execution_count": 30,
   "metadata": {},
   "outputs": [
    {
     "data": {
      "text/plain": [
       "<bound method NDFrame.head of                   colA  colB\n",
       "0    Video_25/RGB/481/     0\n",
       "1    Video_27/RGB/147/     0\n",
       "2    Video_30/RGB/299/     0\n",
       "3    Video_30/RGB/300/     0\n",
       "4    Video_42/RGB/367/     2\n",
       "5    Video_42/RGB/395/     2\n",
       "6   Video_100/RGB/683/     2\n",
       "7   Video_100/RGB/711/     2\n",
       "8   Video_791/RGB/478/     3\n",
       "9      Video_19/RGB/5/     3\n",
       "10    Video_20/RGB/16/     3\n",
       "11    Video_20/RGB/19/     3\n",
       "12    Video_136/RGB/6/     4\n",
       "13   Video_136/RGB/80/     4\n",
       "14  Video_137/RGB/128/     4\n",
       "15   Video_137/RGB/13/     4\n",
       "16  Video_729/RGB/930/     5\n",
       "17   Video_25/RGB/450/     5\n",
       "18    Video_25/RGB/52/     5\n",
       "19    Video_45/RGB/35/     5\n",
       "20  Video_310/RGB/470/     6\n",
       "21    Video_311/RGB/5/     6\n",
       "22   Video_313/RGB/12/     6\n",
       "23   Video_313/RGB/42/     6\n",
       "24  Video_103/RGB/705/     7\n",
       "25  Video_112/RGB/315/     7\n",
       "26  Video_116/RGB/163/     7\n",
       "27  Video_116/RGB/495/     7\n",
       "28   Video_227/RGB/90/     8\n",
       "29  Video_228/RGB/145/     8\n",
       "30  Video_228/RGB/155/     8\n",
       "31  Video_228/RGB/159/     8>"
      ]
     },
     "execution_count": 30,
     "metadata": {},
     "output_type": "execute_result"
    }
   ],
   "source": [
    "data = pd.read_csv(\"C:/Users/LabUser/Downloads/Dhivya_Classifier/Dhivya_Classifier/data.csv\", names=['colA', 'colB'], error_bad_lines = False)\n",
    "data.head"
   ]
  },
  {
   "cell_type": "code",
   "execution_count": 30,
   "metadata": {},
   "outputs": [],
   "source": []
  },
  {
   "cell_type": "code",
   "execution_count": 4,
   "metadata": {},
   "outputs": [
    {
     "ename": "AttributeError",
     "evalue": "module 'cv2.cv2' has no attribute 'createOptFlow_DualTVL1'",
     "output_type": "error",
     "traceback": [
      "\u001b[1;31m---------------------------------------------------------------------------\u001b[0m",
      "\u001b[1;31mAttributeError\u001b[0m                            Traceback (most recent call last)",
      "\u001b[1;32m<ipython-input-4-2ec79379d454>\u001b[0m in \u001b[0;36m<module>\u001b[1;34m\u001b[0m\n\u001b[0;32m      4\u001b[0m \u001b[1;32mfrom\u001b[0m \u001b[0mPIL\u001b[0m \u001b[1;32mimport\u001b[0m \u001b[0mImage\u001b[0m\u001b[1;33m\u001b[0m\u001b[1;33m\u001b[0m\u001b[0m\n\u001b[0;32m      5\u001b[0m \u001b[1;33m\u001b[0m\u001b[0m\n\u001b[1;32m----> 6\u001b[1;33m \u001b[0mTVL1\u001b[0m \u001b[1;33m=\u001b[0m \u001b[0mcv2\u001b[0m\u001b[1;33m.\u001b[0m\u001b[0mcreateOptFlow_DualTVL1\u001b[0m\u001b[1;33m(\u001b[0m\u001b[1;33m)\u001b[0m\u001b[1;33m\u001b[0m\u001b[1;33m\u001b[0m\u001b[0m\n\u001b[0m\u001b[0;32m      7\u001b[0m \u001b[0mf\u001b[0m \u001b[1;33m=\u001b[0m \u001b[1;34m\"D:/Dhivya_Classifier/videos/\"\u001b[0m\u001b[1;33m\u001b[0m\u001b[1;33m\u001b[0m\u001b[0m\n\u001b[0;32m      8\u001b[0m \u001b[0mall_file\u001b[0m \u001b[1;33m=\u001b[0m \u001b[1;33m[\u001b[0m\u001b[1;33m]\u001b[0m\u001b[1;33m\u001b[0m\u001b[1;33m\u001b[0m\u001b[0m\n",
      "\u001b[1;31mAttributeError\u001b[0m: module 'cv2.cv2' has no attribute 'createOptFlow_DualTVL1'"
     ]
    }
   ],
   "source": [
    "import os, glob\n",
    "import cv2\n",
    "import numpy as np\n",
    "from PIL import Image\n",
    "\n",
    "TVL1 = cv2.createOptFlow_DualTVL1()\n",
    "f = \"D:/Dhivya_Classifier/videos/\"\n",
    "all_file = []\n",
    "\n",
    "for i in range(len(data['colA'])):\n",
    "  file1 = data.at[i, 'colA']\n",
    "  #print(file1)\n",
    "  fileArr = []\n",
    "  for fil in glob.glob(os.path.join(f+file1, '*.jpg')):\n",
    "    fileArr.append(fil)\n",
    "  fileArr.sort()\n",
    "  print(fileArr)\n",
    "  try:\n",
    "    current_file = []\n",
    "    prev = np.array(Image.open(fileArr[0]))\n",
    "    prev = cv2.resize(prev, dsize=(1280, 720), interpolation=cv2.INTER_LINEAR)\n",
    "    prev = cv2.cvtColor(prev, cv2.COLOR_RGB2GRAY)\n",
    "    for filename in fileArr:\n",
    "      cur = np.array(Image.open(filename))\n",
    "      cur = cv2.cvtColor(cur, cv2.COLOR_RGB2GRAY)\n",
    "      cur = cv2.resize(cur, dsize=(1280, 720), interpolation=cv2.INTER_LINEAR)\n",
    "      flow = TVL1.calc(prev, cur, None)\n",
    "      current_file.append(flow)\n",
    "      prev = cur\n",
    "    all_file.append(np.array(current_file))\n",
    "  except Exception as e:\n",
    "    print(e)\n",
    "    continue\n",
    "\n",
    "all_file = np.array(all_file)\n",
    "print(all_file.shape)"
   ]
  },
  {
   "cell_type": "code",
   "execution_count": 65,
   "metadata": {},
   "outputs": [
    {
     "name": "stdout",
     "output_type": "stream",
     "text": [
      "D:/Dhivya_Classifier/videos/Video_25/FLOW/481\\thumb000028870.jpg\n"
     ]
    }
   ],
   "source": [
    "temp = \"D:/Dhivya_Classifier/videos/Video_25/RGB/481\\\\thumb000028870.jpg\"\n",
    "temp = temp.replace(\"RGB\", \"FLOW\")\n",
    "print(temp)"
   ]
  },
  {
   "cell_type": "code",
   "execution_count": null,
   "metadata": {},
   "outputs": [],
   "source": [
    "import scipy.misc\n",
    "scipy.misc.toimage(image_array, cmin=0.0, cmax=...).save('outfile.jpg')"
   ]
  },
  {
   "cell_type": "raw",
   "metadata": {},
   "source": [
    "img1 = current_file[0]"
   ]
  },
  {
   "cell_type": "code",
   "execution_count": 67,
   "metadata": {
    "scrolled": true
   },
   "outputs": [
    {
     "ename": "AttributeError",
     "evalue": "'list' object has no attribute 'shape'",
     "output_type": "error",
     "traceback": [
      "\u001b[1;31m---------------------------------------------------------------------------\u001b[0m",
      "\u001b[1;31mAttributeError\u001b[0m                            Traceback (most recent call last)",
      "\u001b[1;32m<ipython-input-67-2e7a6c267368>\u001b[0m in \u001b[0;36m<module>\u001b[1;34m\u001b[0m\n\u001b[1;32m----> 1\u001b[1;33m \u001b[0mall_file\u001b[0m\u001b[1;33m.\u001b[0m\u001b[0mshape\u001b[0m\u001b[1;33m\u001b[0m\u001b[1;33m\u001b[0m\u001b[0m\n\u001b[0m",
      "\u001b[1;31mAttributeError\u001b[0m: 'list' object has no attribute 'shape'"
     ]
    }
   ],
   "source": [
    "all_file.shape"
   ]
  },
  {
   "cell_type": "code",
   "execution_count": null,
   "metadata": {},
   "outputs": [],
   "source": []
  },
  {
   "cell_type": "code",
   "execution_count": 25,
   "metadata": {},
   "outputs": [
    {
     "name": "stdout",
     "output_type": "stream",
     "text": [
      "(720, 1280)\n",
      "0.0 0.0\n"
     ]
    },
    {
     "data": {
      "text/plain": [
       "<matplotlib.image.AxesImage at 0xa92ceb8>"
      ]
     },
     "execution_count": 25,
     "metadata": {},
     "output_type": "execute_result"
    },
    {
     "data": {
      "image/png": "[encoded data removed]",
      "text/plain": [
       "<Figure size 432x288 with 1 Axes>"
      ]
     },
     "metadata": {
      "needs_background": "light"
     },
     "output_type": "display_data"
    }
   ],
   "source": [
    "from matplotlib import pyplot as plt\n",
    "from PIL import Image\n",
    "import numpy as np\n",
    "import cv2\n",
    "\n",
    "def ToImg(raw_flow, bound=20):\n",
    "    flow=raw_flow\n",
    "    flow[flow>bound]=bound\n",
    "    flow[flow<-bound]=-bound\n",
    "    flow/=bound\n",
    "    #flow*=(255/float(2*bound))\n",
    "    return flow\n",
    "\n",
    "TVL1 = cv2.optflow.DualTVL1OpticalFlow_create()\n",
    "temp_prev = Image.open('C:/Users/LabUser/Downloads/Dhivya_Classifier/Dhivya_Classifier/videos/Video_25/RGB/52\\\\thumb000003130.jpg')\n",
    "prev = np.asarray(temp_prev)\n",
    "prev = cv2.resize(prev, dsize=(1280, 720), interpolation=cv2.INTER_LINEAR)\n",
    "prev = cv2.cvtColor(prev, cv2.COLOR_BGR2GRAY)\n",
    "hsv = np.zeros_like(prev)\n",
    "hsv[...,1] = 255\n",
    "print(hsv.shape)\n",
    "cur = np.array(Image.open('C:/Users/LabUser/Downloads/Dhivya_Classifier/Dhivya_Classifier/videos/Video_25/RGB/52\\\\thumb000003131.jpg'))\n",
    "cur = cv2.cvtColor(cur, cv2.COLOR_BGR2GRAY)\n",
    "cur = cv2.resize(cur, dsize=(1280, 720), interpolation=cv2.INTER_LINEAR)\n",
    "flow = TVL1.calc(prev, cur, None)\n",
    "flow_x = ToImg(flow[..., 0], 20)\n",
    "flow_y = ToImg(flow[..., 1], 20)\n",
    "print(flow_y.min(), flow_y.max())\n",
    "#flow = np.dstack((flow_x, flow_y, hsv))\n",
    "#cv2.imshow('frame2', flow)\n",
    "%matplotlib inline\n",
    "plt.imshow(flow_x)"
   ]
  },
  {
   "cell_type": "code",
   "execution_count": 64,
   "metadata": {},
   "outputs": [
    {
     "name": "stdout",
     "output_type": "stream",
     "text": [
      "C:/Users/LabUser/Downloads/Dhivya_Classifier/Dhivya_Classifier/videos/Video_25/RGB/481/\n",
      "C:\\Users\\LabUser\\Downloads\\Dhivya_Classifier\\Dhivya_Classifier\\videos\\Video_25\\FLOW\\481\\flow.npz saved\n",
      "C:/Users/LabUser/Downloads/Dhivya_Classifier/Dhivya_Classifier/videos/Video_27/RGB/147/\n",
      "C:\\Users\\LabUser\\Downloads\\Dhivya_Classifier\\Dhivya_Classifier\\videos\\Video_27\\FLOW\\147\\flow.npz saved\n",
      "C:/Users/LabUser/Downloads/Dhivya_Classifier/Dhivya_Classifier/videos/Video_30/RGB/299/\n",
      "C:\\Users\\LabUser\\Downloads\\Dhivya_Classifier\\Dhivya_Classifier\\videos\\Video_30\\FLOW\\299\\flow.npz saved\n",
      "C:/Users/LabUser/Downloads/Dhivya_Classifier/Dhivya_Classifier/videos/Video_30/RGB/300/\n",
      "C:\\Users\\LabUser\\Downloads\\Dhivya_Classifier\\Dhivya_Classifier\\videos\\Video_30\\FLOW\\300\\flow.npz saved\n",
      "C:/Users/LabUser/Downloads/Dhivya_Classifier/Dhivya_Classifier/videos/Video_42/RGB/367/\n",
      "C:\\Users\\LabUser\\Downloads\\Dhivya_Classifier\\Dhivya_Classifier\\videos\\Video_42\\FLOW\\367\\flow.npz saved\n",
      "C:/Users/LabUser/Downloads/Dhivya_Classifier/Dhivya_Classifier/videos/Video_42/RGB/395/\n",
      "C:\\Users\\LabUser\\Downloads\\Dhivya_Classifier\\Dhivya_Classifier\\videos\\Video_42\\FLOW\\395\\flow.npz saved\n",
      "C:/Users/LabUser/Downloads/Dhivya_Classifier/Dhivya_Classifier/videos/Video_100/RGB/683/\n",
      "C:\\Users\\LabUser\\Downloads\\Dhivya_Classifier\\Dhivya_Classifier\\videos\\Video_100\\FLOW\\683\\flow.npz saved\n",
      "C:/Users/LabUser/Downloads/Dhivya_Classifier/Dhivya_Classifier/videos/Video_100/RGB/711/\n",
      "C:\\Users\\LabUser\\Downloads\\Dhivya_Classifier\\Dhivya_Classifier\\videos\\Video_100\\FLOW\\711\\flow.npz saved\n",
      "C:/Users/LabUser/Downloads/Dhivya_Classifier/Dhivya_Classifier/videos/Video_791/RGB/478/\n",
      "C:\\Users\\LabUser\\Downloads\\Dhivya_Classifier\\Dhivya_Classifier\\videos\\Video_791\\FLOW\\478\\flow.npz saved\n",
      "C:/Users/LabUser/Downloads/Dhivya_Classifier/Dhivya_Classifier/videos/Video_19/RGB/5/\n",
      "C:\\Users\\LabUser\\Downloads\\Dhivya_Classifier\\Dhivya_Classifier\\videos\\Video_19\\FLOW\\5\\flow.npz saved\n",
      "C:/Users/LabUser/Downloads/Dhivya_Classifier/Dhivya_Classifier/videos/Video_20/RGB/16/\n",
      "C:\\Users\\LabUser\\Downloads\\Dhivya_Classifier\\Dhivya_Classifier\\videos\\Video_20\\FLOW\\16\\flow.npz saved\n",
      "C:/Users/LabUser/Downloads/Dhivya_Classifier/Dhivya_Classifier/videos/Video_20/RGB/19/\n",
      "C:\\Users\\LabUser\\Downloads\\Dhivya_Classifier\\Dhivya_Classifier\\videos\\Video_20\\FLOW\\19\\flow.npz saved\n",
      "C:/Users/LabUser/Downloads/Dhivya_Classifier/Dhivya_Classifier/videos/Video_136/RGB/6/\n",
      "C:\\Users\\LabUser\\Downloads\\Dhivya_Classifier\\Dhivya_Classifier\\videos\\Video_136\\FLOW\\6\\flow.npz saved\n",
      "C:/Users/LabUser/Downloads/Dhivya_Classifier/Dhivya_Classifier/videos/Video_136/RGB/80/\n",
      "C:\\Users\\LabUser\\Downloads\\Dhivya_Classifier\\Dhivya_Classifier\\videos\\Video_136\\FLOW\\80\\flow.npz saved\n",
      "C:/Users/LabUser/Downloads/Dhivya_Classifier/Dhivya_Classifier/videos/Video_137/RGB/128/\n",
      "C:\\Users\\LabUser\\Downloads\\Dhivya_Classifier\\Dhivya_Classifier\\videos\\Video_137\\FLOW\\128\\flow.npz saved\n",
      "C:/Users/LabUser/Downloads/Dhivya_Classifier/Dhivya_Classifier/videos/Video_137/RGB/13/\n",
      "C:\\Users\\LabUser\\Downloads\\Dhivya_Classifier\\Dhivya_Classifier\\videos\\Video_137\\FLOW\\13\\flow.npz saved\n",
      "C:/Users/LabUser/Downloads/Dhivya_Classifier/Dhivya_Classifier/videos/Video_729/RGB/930/\n",
      "C:\\Users\\LabUser\\Downloads\\Dhivya_Classifier\\Dhivya_Classifier\\videos\\Video_729\\FLOW\\930\\flow.npz saved\n",
      "C:/Users/LabUser/Downloads/Dhivya_Classifier/Dhivya_Classifier/videos/Video_25/RGB/450/\n",
      "C:\\Users\\LabUser\\Downloads\\Dhivya_Classifier\\Dhivya_Classifier\\videos\\Video_25\\FLOW\\450\\flow.npz saved\n",
      "C:/Users/LabUser/Downloads/Dhivya_Classifier/Dhivya_Classifier/videos/Video_25/RGB/52/\n",
      "C:\\Users\\LabUser\\Downloads\\Dhivya_Classifier\\Dhivya_Classifier\\videos\\Video_25\\FLOW\\52\\flow.npz saved\n",
      "C:/Users/LabUser/Downloads/Dhivya_Classifier/Dhivya_Classifier/videos/Video_45/RGB/35/\n",
      "C:\\Users\\LabUser\\Downloads\\Dhivya_Classifier\\Dhivya_Classifier\\videos\\Video_45\\FLOW\\35\\flow.npz saved\n",
      "C:/Users/LabUser/Downloads/Dhivya_Classifier/Dhivya_Classifier/videos/Video_310/RGB/470/\n",
      "C:\\Users\\LabUser\\Downloads\\Dhivya_Classifier\\Dhivya_Classifier\\videos\\Video_310\\FLOW\\470\\flow.npz saved\n",
      "C:/Users/LabUser/Downloads/Dhivya_Classifier/Dhivya_Classifier/videos/Video_311/RGB/5/\n",
      "C:\\Users\\LabUser\\Downloads\\Dhivya_Classifier\\Dhivya_Classifier\\videos\\Video_311\\FLOW\\5\\flow.npz saved\n",
      "C:/Users/LabUser/Downloads/Dhivya_Classifier/Dhivya_Classifier/videos/Video_313/RGB/12/\n",
      "C:\\Users\\LabUser\\Downloads\\Dhivya_Classifier\\Dhivya_Classifier\\videos\\Video_313\\FLOW\\12\\flow.npz saved\n",
      "C:/Users/LabUser/Downloads/Dhivya_Classifier/Dhivya_Classifier/videos/Video_313/RGB/42/\n",
      "C:\\Users\\LabUser\\Downloads\\Dhivya_Classifier\\Dhivya_Classifier\\videos\\Video_313\\FLOW\\42\\flow.npz saved\n",
      "C:/Users/LabUser/Downloads/Dhivya_Classifier/Dhivya_Classifier/videos/Video_103/RGB/705/\n",
      "C:\\Users\\LabUser\\Downloads\\Dhivya_Classifier\\Dhivya_Classifier\\videos\\Video_103\\FLOW\\705\\flow.npz saved\n",
      "C:/Users/LabUser/Downloads/Dhivya_Classifier/Dhivya_Classifier/videos/Video_112/RGB/315/\n",
      "C:\\Users\\LabUser\\Downloads\\Dhivya_Classifier\\Dhivya_Classifier\\videos\\Video_112\\FLOW\\315\\flow.npz saved\n",
      "C:/Users/LabUser/Downloads/Dhivya_Classifier/Dhivya_Classifier/videos/Video_116/RGB/163/\n",
      "C:\\Users\\LabUser\\Downloads\\Dhivya_Classifier\\Dhivya_Classifier\\videos\\Video_116\\FLOW\\163\\flow.npz saved\n",
      "C:/Users/LabUser/Downloads/Dhivya_Classifier/Dhivya_Classifier/videos/Video_116/RGB/495/\n",
      "C:\\Users\\LabUser\\Downloads\\Dhivya_Classifier\\Dhivya_Classifier\\videos\\Video_116\\FLOW\\495\\flow.npz saved\n",
      "C:/Users/LabUser/Downloads/Dhivya_Classifier/Dhivya_Classifier/videos/Video_227/RGB/90/\n",
      "C:\\Users\\LabUser\\Downloads\\Dhivya_Classifier\\Dhivya_Classifier\\videos\\Video_227\\FLOW\\90\\flow.npz saved\n",
      "C:/Users/LabUser/Downloads/Dhivya_Classifier/Dhivya_Classifier/videos/Video_228/RGB/145/\n",
      "C:\\Users\\LabUser\\Downloads\\Dhivya_Classifier\\Dhivya_Classifier\\videos\\Video_228\\FLOW\\145\\flow.npz saved\n",
      "C:/Users/LabUser/Downloads/Dhivya_Classifier/Dhivya_Classifier/videos/Video_228/RGB/155/\n",
      "C:\\Users\\LabUser\\Downloads\\Dhivya_Classifier\\Dhivya_Classifier\\videos\\Video_228\\FLOW\\155\\flow.npz saved\n",
      "C:/Users/LabUser/Downloads/Dhivya_Classifier/Dhivya_Classifier/videos/Video_228/RGB/159/\n",
      "C:\\Users\\LabUser\\Downloads\\Dhivya_Classifier\\Dhivya_Classifier\\videos\\Video_228\\FLOW\\159\\flow.npz saved\n",
      "(0,)\n"
     ]
    }
   ],
   "source": [
    "import os, glob\n",
    "import cv2\n",
    "import numpy as np\n",
    "from PIL import Image\n",
    "import os\n",
    "from pathlib import Path, PureWindowsPath\n",
    "\n",
    "TVL1 = cv2.optflow.DualTVL1OpticalFlow_create()\n",
    "f = \"C:/Users/LabUser/Downloads/Dhivya_Classifier/Dhivya_Classifier/videos/\"\n",
    "all_file = []\n",
    "\n",
    "def ToImg(raw_flow, bound=20):\n",
    "    flow=raw_flow\n",
    "    flow[flow>bound]=bound\n",
    "    flow[flow<-bound]=-bound\n",
    "    flow/=bound\n",
    "    flow*=127\n",
    "    return flow\n",
    "\n",
    "def SaveFlow(flow, file):\n",
    "    flow_file = file.replace(\"RGB\", \"FLOW\")\n",
    "    flow_file = PureWindowsPath(flow_file)\n",
    "    if not os.path.exists(flow_file):\n",
    "        os.makedirs(flow_file)\n",
    "    save_name = str(flow_file) + '\\\\flow.npz'\n",
    "    np.savez_compressed(save_name, flow)\n",
    "    print(save_name + \" saved\")\n",
    "\n",
    "for i in range(len(data['colA'])):\n",
    "  file1 = data.at[i, 'colA']\n",
    "  fileArr = []\n",
    "  for fil in glob.glob(os.path.join(f+file1, '*.jpg')):\n",
    "    fileArr.append(fil)\n",
    "  fileArr.sort()\n",
    "  print(f+file1)\n",
    "  try:\n",
    "    current_file = []\n",
    "    prev = np.array(Image.open(fileArr[0]))\n",
    "    prev = cv2.resize(prev, dsize=(1280, 720), interpolation=cv2.INTER_LINEAR)\n",
    "    prev = cv2.cvtColor(prev, cv2.COLOR_RGB2GRAY)\n",
    "    for filename in fileArr:\n",
    "      cur = np.array(Image.open(filename))\n",
    "      cur = cv2.cvtColor(cur, cv2.COLOR_RGB2GRAY)\n",
    "      cur = cv2.resize(cur, dsize=(1280, 720), interpolation=cv2.INTER_LINEAR)\n",
    "      flow = TVL1.calc(prev, cur, None)\n",
    "      flow_x = ToImg(flow[..., 0], 20)\n",
    "      flow_y = ToImg(flow[..., 1], 20)\n",
    "      #print(flow_y.min(), flow_y.max())\n",
    "      current_file.append((flow_x, flow_y))\n",
    "      prev = cur\n",
    "    #all_file.append(np.array(current_file))\n",
    "    current_file = np.array(current_file).astype(np.int8, copy=False)\n",
    "    SaveFlow(np.array(current_file), f+file1)\n",
    "  except Exception as e:\n",
    "    print(e)\n",
    "    continue\n",
    "\n",
    "all_file = np.array(all_file)\n",
    "print(all_file.shape)"
   ]
  },
  {
   "cell_type": "code",
   "execution_count": 33,
   "metadata": {},
   "outputs": [],
   "source": [
    "new_file = all_file"
   ]
  },
  {
   "cell_type": "code",
   "execution_count": 34,
   "metadata": {},
   "outputs": [
    {
     "name": "stdout",
     "output_type": "stream",
     "text": [
      "(60, 2, 720, 1280)\n"
     ]
    }
   ],
   "source": [
    "print(new_file[0].shape)"
   ]
  },
  {
   "cell_type": "code",
   "execution_count": 55,
   "metadata": {},
   "outputs": [
    {
     "data": {
      "text/plain": [
       "'\\\\'"
      ]
     },
     "execution_count": 55,
     "metadata": {},
     "output_type": "execute_result"
    }
   ],
   "source": [
    "x = \"\\\\\\\\\"\n",
    "x = x.replace(\"\\\\\\\\\", \"\\\\\")\n",
    "x"
   ]
  },
  {
   "cell_type": "code",
   "execution_count": null,
   "metadata": {},
   "outputs": [],
   "source": []
  }
 ],
 "metadata": {
  "kernelspec": {
   "display_name": "Python 3",
   "language": "python",
   "name": "python3"
  }
 },
 "nbformat": 4,
 "nbformat_minor": 2
}
